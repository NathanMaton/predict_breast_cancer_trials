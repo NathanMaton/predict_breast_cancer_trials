{
 "cells": [
  {
   "cell_type": "code",
   "execution_count": 6,
   "metadata": {
    "ExecuteTime": {
     "end_time": "2019-03-11T18:22:35.383154Z",
     "start_time": "2019-03-11T18:22:33.152126Z"
    }
   },
   "outputs": [
    {
     "name": "stdout",
     "output_type": "stream",
     "text": [
      "Populating the interactive namespace from numpy and matplotlib\n"
     ]
    }
   ],
   "source": [
    "import pandas as pd\n",
    "%pylab inline"
   ]
  },
  {
   "cell_type": "markdown",
   "metadata": {},
   "source": [
    "## Drugs table"
   ]
  },
  {
   "cell_type": "code",
   "execution_count": 26,
   "metadata": {
    "ExecuteTime": {
     "end_time": "2019-03-07T17:49:35.499115Z",
     "start_time": "2019-03-07T17:49:34.630517Z"
    }
   },
   "outputs": [
    {
     "data": {
      "text/plain": [
       "(1203, 36)"
      ]
     },
     "execution_count": 26,
     "metadata": {},
     "output_type": "execute_result"
    }
   ],
   "source": [
    "drugs = pd.read_excel('bcdrugs.xlsx')\n",
    "drugs.shape"
   ]
  },
  {
   "cell_type": "markdown",
   "metadata": {},
   "source": [
    "Drugs columns = 'Drug ID', 'Drug Name', 'CAS Number', 'Chemical Name',\n",
    "       'New Molecular Entity', 'Drug Interactions', 'Comparative Efficacy',\n",
    "       'Highest Development Phase', 'Indication', 'Molecular Formula',\n",
    "       'Mechanism Of Action', 'Organisation',\n",
    "       'Pharmacodynamic Characteristics', 'Route Of Administration',\n",
    "       'Route Of Elimination', 'Pharmacokinetic Characteristics',\n",
    "       'Adverse Events', 'Therapeutic Class (EphMRA)',\n",
    "       'Therapeutic Class (WHO)', 'Synonyms/Brand Names',\n",
    "       'Antimicrobial Activity', 'Immunogenicity',\n",
    "       'Last Significant Update Date', 'Therapeutic Area',\n",
    "       'Orphan Designation', 'License Availability', 'Brands', 'On Fastrack',\n",
    "       'Fastrack country', 'On PRIME', 'PRIME country', 'Biomarkers-Inclusion',\n",
    "       'Biomarkers-Exclusion', 'Biomarkers-Outcome Measure',\n",
    "       'Biomarkers-Safety', 'Biomarkers-not specified'"
   ]
  },
  {
   "cell_type": "code",
   "execution_count": 81,
   "metadata": {
    "ExecuteTime": {
     "end_time": "2019-03-07T20:00:02.165295Z",
     "start_time": "2019-03-07T20:00:02.141577Z"
    }
   },
   "outputs": [
    {
     "data": {
      "text/plain": [
       "Marketed                                     175\n",
       "Preclinical                                  167\n",
       "Phase II                                     149\n",
       "No development reported (Preclinical)         87\n",
       "Phase III                                     84\n",
       "Discontinued (II)                             84\n",
       "Phase I                                       65\n",
       "Discontinued (Preclinical)                    60\n",
       "Discontinued (III)                            46\n",
       "Phase I/II                                    44\n",
       "Research                                      35\n",
       "Discontinued (I)                              25\n",
       "No development reported (Research)            21\n",
       "No development reported (I)                   21\n",
       "No development reported (II)                  20\n",
       "Registered                                    15\n",
       "Phase II/III                                  14\n",
       "Discontinued (I/II)                           11\n",
       "Discontinued (Preregistration)                10\n",
       "No development reported (Clinical)            10\n",
       "Preregistration                               10\n",
       "Clinical Phase Unknown                         7\n",
       "No development reported (I/II)                 7\n",
       "Suspended (I)                                  5\n",
       "Suspended (II)                                 5\n",
       "Discontinued (Clinical)                        4\n",
       "Suspended (III)                                3\n",
       "No development reported (III)                  3\n",
       "No development reported                        2\n",
       "No development reported (Preregistration)      2\n",
       "Discontinued (Registered)                      2\n",
       "Discontinued (II/III)                          2\n",
       "Phase Unknown                                  2\n",
       "Market Withdrawal                              1\n",
       "Discontinued                                   1\n",
       "No development reported (Registered)           1\n",
       "Preregistration Submission Withdrawal          1\n",
       "Discontinued (Research)                        1\n",
       "Phase 0                                        1\n",
       "Name: Highest Development Phase, dtype: int64"
      ]
     },
     "execution_count": 81,
     "metadata": {},
     "output_type": "execute_result"
    }
   ],
   "source": [
    "drugs['Highest Development Phase'].value_counts()"
   ]
  },
  {
   "cell_type": "markdown",
   "metadata": {},
   "source": [
    "## Trials table"
   ]
  },
  {
   "cell_type": "code",
   "execution_count": 7,
   "metadata": {
    "ExecuteTime": {
     "end_time": "2019-03-11T18:22:40.900900Z",
     "start_time": "2019-03-11T18:22:36.968556Z"
    }
   },
   "outputs": [
    {
     "data": {
      "text/plain": [
       "(4529, 41)"
      ]
     },
     "execution_count": 7,
     "metadata": {},
     "output_type": "execute_result"
    }
   ],
   "source": [
    "trials = pd.read_excel('bcdrugsct.xlsx')\n",
    "trials.shape"
   ]
  },
  {
   "cell_type": "code",
   "execution_count": 159,
   "metadata": {
    "ExecuteTime": {
     "end_time": "2019-03-12T00:50:16.830609Z",
     "start_time": "2019-03-12T00:50:16.771118Z"
    }
   },
   "outputs": [],
   "source": [
    "cols = ['Trial ID','Mechanism of action', 'Drug class (therapeutic effect)', 'Drug class (chemical)', \\\n",
    "        'Indication', 'Organisations', 'Trial Design', 'Location', 'Phase of Trial', 'Subject Age',\\\n",
    "        'Planned Subject Number', 'Trial Centre Details', 'Lead Centre', 'Trial Initiation date', \\\n",
    "        'Trial End date', 'Trial Status', 'Trial History', 'Diseases treated', 'Primary Drugs']\n",
    "smaller_trials = trials[cols]\n",
    "date_cols = ['Phase of Trial','Trial Initiation date', 'Trial End date', 'trial_start','trial_end']"
   ]
  },
  {
   "cell_type": "code",
   "execution_count": 133,
   "metadata": {
    "ExecuteTime": {
     "end_time": "2019-03-12T00:27:55.386344Z",
     "start_time": "2019-03-12T00:27:55.367923Z"
    }
   },
   "outputs": [
    {
     "data": {
      "text/plain": [
       "1      01 Dec 2013 (actual)\n",
       "10     01 Dec 2015 (actual)\n",
       "16     12 Feb 2019 (actual)\n",
       "478    06 Dec 2018 (actual)\n",
       "481    01 Feb 2014 (actual)\n",
       "Name: Trial Initiation date, dtype: object"
      ]
     },
     "execution_count": 133,
     "metadata": {},
     "output_type": "execute_result"
    }
   ],
   "source": [
    "df['Trial Initiation date'].head()"
   ]
  },
  {
   "cell_type": "code",
   "execution_count": null,
   "metadata": {
    "ExecuteTime": {
     "end_time": "2019-03-12T01:15:01.675640Z",
     "start_time": "2019-03-12T01:15:01.556606Z"
    }
   },
   "outputs": [],
   "source": [
    "\n",
    "def phase_1(drug_name):\n",
    "    '''\n",
    "    take earliest Phase I date and latest Phase II\n",
    "    '''\n",
    "    tucatinib_trials = trials[trials['Primary Drugs']==drug_name]\n",
    "    trial_phases = ['Phase I', 'Phase II', 'Phase III']\n",
    "    cleaned_tucatinib_trials = tucatinib_trials[tucatinib_trials['Phase of Trial'].isin(trial_phases)]\n",
    "    phase_dummies = pd.get_dummies(cleaned_tucatinib_trials['Phase of Trial'])\n",
    "    cleaned_tucatinib_trials_dummies = cleaned_tucatinib_trials.join(phase_dummies)\n",
    "    #cleaned_tucatinib_trials_dummies[['Trial Initiation date', 'Trial End date']]\n",
    "    df = cleaned_tucatinib_trials.join(phase_dummies)\n",
    "\n",
    "    #not DRY as the answers to make multiargument apply functions involved more complicated things than I wanted.\n",
    "    def start_to_datetime(x):\n",
    "        date_str = re.findall('[\\d\\s\\w]*', x['Trial Initiation date'])[0].strip()\n",
    "        if date_str == '':\n",
    "            return False\n",
    "        else:\n",
    "            return pd.to_datetime(date_str)\n",
    "\n",
    "    def end_to_datetime(x):\n",
    "        date_str = re.findall('[\\d\\s\\w]*', x['Trial End date'])[0].strip()\n",
    "        if date_str == '':\n",
    "            return False\n",
    "        else:\n",
    "            return pd.to_datetime(date_str)\n",
    "\n",
    "    df['trial_start'] = df.apply(start_to_datetime, axis=1)\n",
    "    df['trial_end'] = df.apply(end_to_datetime, axis=1)\n",
    "\n",
    "    t_phase_1_min = min(list(df[(df['trial_start']!=False) & (df['Phase of Trial']=='Phase I')]['trial_start'].values))\n",
    "    t_phase_1_max = max(list(df[(df['trial_start']!=False) & (df['Phase of Trial']=='Phase I')]['trial_start'].values))\n",
    "\n",
    "    return f'min is {t_phase_1_min} and max is {t_phase_1_max}'\n",
    "\n",
    "phase_1('Xentuzumab')\n",
    "\n",
    "\n",
    "# df['split_start_date'] = df['Trial Initiation date'].apply(lambda x: x.split(' '))\n",
    "# df['split_end_date'] = df['Trial End date'].apply(lambda x: x.split(' '))\n",
    "# df2 = df[df['split_start_date'].apply(lambda x: len(x[:3]))==3]\n",
    "# df3 = df2[df2['split_end_date'].apply(lambda x: len(x[:3]))==3]\n",
    "# df3[date_cols]\n",
    "#df3.apply(lambda x: ' '.join(x['split_start_date']))\n",
    "# in_progress_trials = trials[trials['split_start_date'].apply(lambda x: len(x[:3]))==3]\n",
    "# planned_trials = trials[trials['split_start_date'].apply(lambda x: len(x[:3]))==2]\n",
    "# # one_split = trials['split_end_date'].values[0]\n",
    "# # pd.to_datetime(' '.join(one_split[:3]))\n",
    "\n",
    "\n",
    "\n",
    "\n",
    "\n"
   ]
  },
  {
   "cell_type": "code",
   "execution_count": 52,
   "metadata": {
    "ExecuteTime": {
     "end_time": "2019-03-11T23:24:38.481578Z",
     "start_time": "2019-03-11T23:24:38.448205Z"
    }
   },
   "outputs": [],
   "source": [
    "phase_two = smaller_trials[smaller_trials['Phase of Trial'] == 'Phase II']\n",
    "phase_three = smaller_trials[smaller_trials['Phase of Trial'] == 'Phase III']"
   ]
  },
  {
   "cell_type": "code",
   "execution_count": 63,
   "metadata": {
    "ExecuteTime": {
     "end_time": "2019-03-11T23:28:49.038299Z",
     "start_time": "2019-03-11T23:28:49.023698Z"
    }
   },
   "outputs": [],
   "source": [
    "unique_drugs =list(smaller_trials['Primary Drugs'].unique())"
   ]
  },
  {
   "cell_type": "code",
   "execution_count": null,
   "metadata": {
    "ExecuteTime": {
     "end_time": "2019-03-11T23:32:47.747816Z",
     "start_time": "2019-03-11T23:32:47.694901Z"
    }
   },
   "outputs": [],
   "source": [
    "trials[trials['Primary Drugs']=='Tucatinib']"
   ]
  },
  {
   "cell_type": "code",
   "execution_count": null,
   "metadata": {
    "ExecuteTime": {
     "end_time": "2019-03-11T18:49:46.532099Z",
     "start_time": "2019-03-11T18:49:46.491868Z"
    }
   },
   "outputs": [],
   "source": [
    "def trial_history_to_table(th):\n",
    "    rows = str.split(th, ';')\n",
    "    #columns_trial_1 = [str.split(i, '|') for i in rows_trial_1]\n",
    "    table = [str.split(row, '|') for row in rows]\n",
    "    return pd.DataFrame(table,columns=['Date','Status','Notes'])\n",
    "\n",
    "trial_history_to_table(phase_three['Trial History'].values[0])"
   ]
  }
 ],
 "metadata": {
  "kernelspec": {
   "display_name": "Python 3",
   "language": "python",
   "name": "python3"
  },
  "language_info": {
   "codemirror_mode": {
    "name": "ipython",
    "version": 3
   },
   "file_extension": ".py",
   "mimetype": "text/x-python",
   "name": "python",
   "nbconvert_exporter": "python",
   "pygments_lexer": "ipython3",
   "version": "3.7.0"
  }
 },
 "nbformat": 4,
 "nbformat_minor": 2
}
