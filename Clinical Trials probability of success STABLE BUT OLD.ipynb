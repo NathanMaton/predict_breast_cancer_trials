{
 "cells": [
  {
   "cell_type": "code",
   "execution_count": 1,
   "metadata": {
    "ExecuteTime": {
     "end_time": "2019-03-12T22:14:55.075248Z",
     "start_time": "2019-03-12T22:14:53.381956Z"
    }
   },
   "outputs": [
    {
     "name": "stdout",
     "output_type": "stream",
     "text": [
      "Populating the interactive namespace from numpy and matplotlib\n"
     ]
    }
   ],
   "source": [
    "import pandas as pd\n",
    "from collections import Counter\n",
    "%pylab inline"
   ]
  },
  {
   "cell_type": "code",
   "execution_count": 2,
   "metadata": {
    "ExecuteTime": {
     "end_time": "2019-03-12T22:14:59.048709Z",
     "start_time": "2019-03-12T22:14:55.079422Z"
    }
   },
   "outputs": [],
   "source": [
    "trials = pd.read_excel('bcdrugsct.xlsx')\n",
    "trials = trials[trials['Primary Drugs'].isna()==False]\n",
    "cols = ['Trial ID','Mechanism of action', 'Drug class (therapeutic effect)', 'Drug class (chemical)', \\\n",
    "        'Indication', 'Organisations', 'Trial Design', 'Location', 'Phase of Trial', 'Subject Age',\\\n",
    "        'Planned Subject Number', 'Trial Centre Details', 'Lead Centre', 'Trial Initiation date', \\\n",
    "        'Trial End date', 'Trial Status', 'Trial History', 'Diseases treated', 'Primary Drugs']\n",
    "# smaller_trials = trials[cols]\n",
    "date_cols = ['Phase of Trial','Trial Initiation date', 'Trial End date', 'trial_start','trial_end']\n",
    "if trials['Primary Drugs'].isna().sum() > 0:\n",
    "    print('did not remove all na drug rows')"
   ]
  },
  {
   "cell_type": "code",
   "execution_count": 3,
   "metadata": {
    "ExecuteTime": {
     "end_time": "2019-03-12T22:14:59.072609Z",
     "start_time": "2019-03-12T22:14:59.052458Z"
    }
   },
   "outputs": [],
   "source": [
    "#not DRY as the answers to make multiargument apply functions involved more complicated things than I wanted.\n",
    "def start_to_datetime(x):\n",
    "    date_str = re.findall('[\\d\\s\\w]*', x['Trial Initiation date'])[0].strip()\n",
    "    if date_str == '':\n",
    "        return False\n",
    "    else:\n",
    "        return pd.to_datetime(date_str)\n",
    "\n",
    "def end_to_datetime(x):\n",
    "    date_str = re.findall('[\\d\\s\\w]*', x['Trial End date'])[0].strip()\n",
    "    if date_str == '':\n",
    "        return False\n",
    "    else:\n",
    "        return pd.to_datetime(date_str)\n",
    "\n",
    "def phase_1(drug_name):\n",
    "    '''\n",
    "    Use a drug name and get out the probabilitiy that it passes multiple phases \n",
    "    and the times for it to do so.\n",
    "    '''\n",
    "    #get df with all rows related to drug\n",
    "    drug_trials = trials[trials['Primary Drugs'].str.contains(drug_name,case=False)] \n",
    "    #drug_trials = trials[trials['Primary Drugs']==drug_name] \n",
    "    \n",
    "    #see if the drug has phase I and II in data.\n",
    "    unique_trial_values = drug_trials['Phase of Trial'].unique()\n",
    "    pass_phase_1, pass_phase_2, pass_phase_3 = False, False, False\n",
    "    pass_phase_one_two, pass_phase_two_three = False, False\n",
    "    if ('Phase I' in unique_trial_values) & ('Phase II' in unique_trial_values):\n",
    "        pass_phase_1 = True\n",
    "    \n",
    "    if ('Phase II' in unique_trial_values) & ('Phase III' in unique_trial_values):\n",
    "        pass_phase_2 = True\n",
    "        \n",
    "    if ('Phase III' in unique_trial_values) & ('Phase IV' in unique_trial_values):\n",
    "        pass_phase_3 = True\n",
    "    \n",
    "    if ('Phase I/II' in unique_trial_values) & ('Phase III' in unique_trial_values):\n",
    "        pass_phase_one_two = True\n",
    "    \n",
    "    if ('Phase II/III' in unique_trial_values) & ('Phase IV' in unique_trial_values):\n",
    "        pass_phase_two_three = True\n",
    "    \n",
    "    if pass_phase_1 == False:\n",
    "        return [drug_name,False,False,False, False, False, False]\n",
    "        \n",
    "    #get rid of rows outside Phase I or II\n",
    "    trial_phases = ['Phase I', 'Phase II']\n",
    "    cleaned_drug_trials = drug_trials[drug_trials['Phase of Trial'].isin(trial_phases)] #only rows w/ clean trials        \n",
    "\n",
    "    #turn categorial variables into ordinals\n",
    "    phase_dummies = pd.get_dummies(cleaned_drug_trials['Phase of Trial'])\n",
    "    df = cleaned_drug_trials.join(phase_dummies)\n",
    "    \n",
    "    #convert times to time objects\n",
    "    df['trial_start'] = df.apply(start_to_datetime, axis=1)\n",
    "    df['trial_end'] = df.apply(end_to_datetime, axis=1)\n",
    "     \n",
    "    #if len(df[df['trial_start']==False])>0:\n",
    "    #    return f'{drug_name} error'\n",
    "    \n",
    "    #finds only the dates that aren't false for each phase.\n",
    "    phase_1_start = min(list(df[(df['trial_start']!=False) & (df['Phase of Trial']=='Phase I')]['trial_start'].values))\n",
    "    phase_1_first_end = min(list(df[(df['trial_start']!=False) & (df['Phase of Trial']=='Phase II')]['trial_start'].values))\n",
    "    phase_1_last_end = max(list(df[(df['trial_start']!=False) & (df['Phase of Trial']=='Phase I')]['trial_start'].values))\n",
    "    \n",
    "    #return (f'min is {t_phase_1_min} and max is {t_phase_1_max}')\n",
    "    return [drug_name, pass_phase_1,pass_phase_2, pass_phase_3, pass_phase_one_two, pass_phase_two_three, phase_1_start, phase_1_first_end, phase_1_last_end]\n",
    "\n"
   ]
  },
  {
   "cell_type": "code",
   "execution_count": 4,
   "metadata": {
    "ExecuteTime": {
     "end_time": "2019-03-12T22:14:59.098246Z",
     "start_time": "2019-03-12T22:14:59.077232Z"
    }
   },
   "outputs": [],
   "source": [
    "unique_drug_list =list(trials['Primary Drugs'].unique())\n",
    "unique_drugs = {drug for row in unique_drug_list for drug in row.split(', ')}\n",
    "\n",
    "drug_counts = trials['Primary Drugs'].value_counts()\n",
    "drugs_10_trials = drug_counts[drug_counts>1].index\n",
    "all_drugs = drug_counts.index"
   ]
  },
  {
   "cell_type": "code",
   "execution_count": 5,
   "metadata": {
    "ExecuteTime": {
     "end_time": "2019-03-12T22:14:59.116945Z",
     "start_time": "2019-03-12T22:14:59.106727Z"
    }
   },
   "outputs": [
    {
     "data": {
      "text/plain": [
       "1001"
      ]
     },
     "execution_count": 5,
     "metadata": {},
     "output_type": "execute_result"
    }
   ],
   "source": [
    "len(unique_drugs)"
   ]
  },
  {
   "cell_type": "code",
   "execution_count": 6,
   "metadata": {
    "ExecuteTime": {
     "end_time": "2019-03-12T22:14:59.134729Z",
     "start_time": "2019-03-12T22:14:59.120851Z"
    }
   },
   "outputs": [],
   "source": [
    "c = Counter(np.array([drug for row in unique_drug_list for drug in row.split(', ')]))"
   ]
  },
  {
   "cell_type": "code",
   "execution_count": 7,
   "metadata": {
    "ExecuteTime": {
     "end_time": "2019-03-12T22:15:08.449130Z",
     "start_time": "2019-03-12T22:14:59.138134Z"
    }
   },
   "outputs": [
    {
     "name": "stderr",
     "output_type": "stream",
     "text": [
      "/anaconda3/lib/python3.7/site-packages/ipykernel_launcher.py:22: UserWarning: This pattern has match groups. To actually get the groups, use str.extract.\n"
     ]
    },
    {
     "name": "stdout",
     "output_type": "stream",
     "text": [
      "got 983 results and had 18 exceptions\n"
     ]
    }
   ],
   "source": [
    "res, except_ids = [],[]\n",
    "for idx,i in enumerate(unique_drugs):\n",
    "    try:\n",
    "        res.append(phase_1(i))\n",
    "    except:\n",
    "        except_ids.append(idx)\n",
    "\n",
    "print (f'got {len(res)} results and had {len(except_ids)} exceptions')"
   ]
  },
  {
   "cell_type": "code",
   "execution_count": 8,
   "metadata": {
    "ExecuteTime": {
     "end_time": "2019-03-12T22:15:08.474136Z",
     "start_time": "2019-03-12T22:15:08.452208Z"
    }
   },
   "outputs": [
    {
     "data": {
      "text/plain": [
       "(983, 9)"
      ]
     },
     "execution_count": 8,
     "metadata": {},
     "output_type": "execute_result"
    }
   ],
   "source": [
    "drugs_df = pd.DataFrame(res, columns=['drug','phase_1_success','phase_2_success','phase_3_success','phase_1_2_success','phase_2_3_success','phase_1_start', 'phase_1_first_end', 'phase_1_last_end'])\n",
    "drugs_df.shape"
   ]
  },
  {
   "cell_type": "code",
   "execution_count": 9,
   "metadata": {
    "ExecuteTime": {
     "end_time": "2019-03-12T22:15:08.500985Z",
     "start_time": "2019-03-12T22:15:08.483573Z"
    }
   },
   "outputs": [
    {
     "data": {
      "text/plain": [
       "[21.36, 6.51, 3.46]"
      ]
     },
     "execution_count": 9,
     "metadata": {},
     "output_type": "execute_result"
    }
   ],
   "source": [
    "ans = [drugs_df[drugs_df['phase_1_success']==True].shape[0]/drugs_df.shape[0], \n",
    "drugs_df[drugs_df['phase_2_success']==True].shape[0]/drugs_df.shape[0], \n",
    "drugs_df[drugs_df['phase_3_success']==True].shape[0]/drugs_df.shape[0]]\n",
    "[round(100*i,2) for i in ans]"
   ]
  }
 ],
 "metadata": {
  "kernelspec": {
   "display_name": "Python 3",
   "language": "python",
   "name": "python3"
  },
  "language_info": {
   "codemirror_mode": {
    "name": "ipython",
    "version": 3
   },
   "file_extension": ".py",
   "mimetype": "text/x-python",
   "name": "python",
   "nbconvert_exporter": "python",
   "pygments_lexer": "ipython3",
   "version": "3.7.0"
  }
 },
 "nbformat": 4,
 "nbformat_minor": 2
}
