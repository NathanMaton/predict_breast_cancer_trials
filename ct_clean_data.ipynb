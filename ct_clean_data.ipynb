{
 "cells": [
  {
   "cell_type": "code",
   "execution_count": 1,
   "metadata": {
    "ExecuteTime": {
     "end_time": "2019-03-16T01:46:14.735807Z",
     "start_time": "2019-03-16T01:46:11.987110Z"
    }
   },
   "outputs": [
    {
     "name": "stdout",
     "output_type": "stream",
     "text": [
      "Populating the interactive namespace from numpy and matplotlib\n"
     ]
    }
   ],
   "source": [
    "import pandas as pd\n",
    "from collections import Counter \n",
    "from helper import load_data,pipeline, unique_drugs, generate_drugs_df\n",
    "import re\n",
    "\n",
    "%pylab inline \n",
    "%load_ext autoreload\n",
    "%autoreload 2"
   ]
  },
  {
   "cell_type": "code",
   "execution_count": 2,
   "metadata": {
    "ExecuteTime": {
     "end_time": "2019-03-16T01:46:45.665685Z",
     "start_time": "2019-03-16T01:46:16.841210Z"
    }
   },
   "outputs": [],
   "source": [
    "df_original = load_data()\n",
    "#c = unique_drugs(trials)\n",
    "#df_data, exceptions = generate_drugs_df(c, trials)\n",
    "df_original = df_original.reset_index()\n",
    "\n",
    "\n",
    "## expanded unique drugs to get a dataframe we can group by\n",
    "dupes = []\n",
    "for idx, item_list in enumerate(df_original[\"Primary Drugs\"]):\n",
    "    split_list = item_list.split(\",\")\n",
    "    if len(split_list)>1:\n",
    "        for i in split_list:\n",
    "            df_original.append(df_original.iloc[idx,:])\n",
    "            df_original.iloc[-1,-3]=i\n",
    "        dupes.append(idx)\n",
    "\n",
    "df_trials = df_original.drop(dupes)\n"
   ]
  },
  {
   "cell_type": "code",
   "execution_count": 3,
   "metadata": {
    "ExecuteTime": {
     "end_time": "2019-03-16T01:46:46.554830Z",
     "start_time": "2019-03-16T01:46:45.674370Z"
    }
   },
   "outputs": [],
   "source": [
    "drug_list = df_trials[\"Primary Drugs\"].unique()\n",
    "phase_of_trial_list = df_trials[\"Phase of Trial\"].unique()\n",
    "df_num_of_pariticpants = pd.DataFrame(np.zeros([len(drug_list),len(phase_of_trial_list)]),columns=phase_of_trial_list)\n",
    "df_num_of_pariticpants['drug'] = drug_list\n",
    "df_num_of_pariticpants = df_num_of_pariticpants.set_index('drug')\n",
    "grouped_phases = df_trials.groupby([\"Primary Drugs\",\"Phase of Trial\"])[\"Planned Subject Number\"].agg('sum')\n",
    "cleaner_groups = grouped_phases.reset_index()\n",
    "\n",
    "for drug in drug_list:\n",
    "    for item in cleaner_groups[cleaner_groups[\"Primary Drugs\"]==drug].iterrows():   \n",
    "        phase = list(item)[1]['Phase of Trial']\n",
    "        count = list(item)[1]['Planned Subject Number']\n",
    "        df_num_of_pariticpants.loc[drug,phase] = count\n",
    "\n",
    "    \n",
    "    "
   ]
  },
  {
   "cell_type": "code",
   "execution_count": 4,
   "metadata": {
    "ExecuteTime": {
     "end_time": "2019-03-16T01:46:50.421996Z",
     "start_time": "2019-03-16T01:46:49.416142Z"
    }
   },
   "outputs": [],
   "source": [
    "df_drugs = pd.read_excel('bcdrugs.xlsx')\n",
    "df_drugs['drug'] = df_drugs.apply(lambda x: x[\"Drug Name\"].split(\"-\")[0], axis=1)\n",
    "df_num_of_pariticpants_red = df_num_of_pariticpants.drop('Phase 0',axis=1)\n",
    "df_num_of_pariticpants_red = df_num_of_pariticpants_red[(df_num_of_pariticpants_red['Phase I']!=0) | (df_num_of_pariticpants_red['Phase II']!=0) | (df_num_of_pariticpants_red['Phase I/II']!=0)]"
   ]
  },
  {
   "cell_type": "code",
   "execution_count": 5,
   "metadata": {
    "ExecuteTime": {
     "end_time": "2019-03-16T01:46:51.973753Z",
     "start_time": "2019-03-16T01:46:51.857739Z"
    }
   },
   "outputs": [],
   "source": [
    "# Create boolean to determine if the current passed. Based on whether there were participants from the next phase\n",
    "#phases = [item for item in df_num_of_pariticpants_red.columns if 'I' in item]\n",
    "df_num_of_pariticpants_red['Phase I Pass'] = df_num_of_pariticpants_red['Phase II']!=0\n",
    "df_num_of_pariticpants_red['Phase II Pass'] = df_num_of_pariticpants_red['Phase III']!=0\n",
    "df_num_of_pariticpants_red['Phase I/II Pass'] = df_num_of_pariticpants_red['Phase III']!=0\n",
    "df_num_of_pariticpants_red['Phase III Pass'] = df_num_of_pariticpants_red['Phase IV']!=0\n",
    "df_num_of_pariticpants_red['Phase II/III Pass'] = df_num_of_pariticpants_red['Phase IV']!=0"
   ]
  },
  {
   "cell_type": "code",
   "execution_count": 31,
   "metadata": {
    "ExecuteTime": {
     "end_time": "2019-03-16T01:53:31.902982Z",
     "start_time": "2019-03-16T01:53:31.626826Z"
    }
   },
   "outputs": [],
   "source": [
    "df_data = df_num_of_pariticpants_red"
   ]
  },
  {
   "cell_type": "markdown",
   "metadata": {},
   "source": [
    "Getting number of organizations for each drug"
   ]
  },
  {
   "cell_type": "code",
   "execution_count": 6,
   "metadata": {
    "ExecuteTime": {
     "end_time": "2019-03-16T01:46:53.821507Z",
     "start_time": "2019-03-16T01:46:53.765536Z"
    }
   },
   "outputs": [
    {
     "name": "stderr",
     "output_type": "stream",
     "text": [
      "/anaconda3/lib/python3.7/site-packages/fuzzywuzzy/fuzz.py:11: UserWarning: Using slow pure-python SequenceMatcher. Install python-Levenshtein to remove this warning\n",
      "  warnings.warn('Using slow pure-python SequenceMatcher. Install python-Levenshtein to remove this warning')\n"
     ]
    }
   ],
   "source": [
    "from fuzzywuzzy import fuzz\n",
    "from fuzzywuzzy import process"
   ]
  },
  {
   "cell_type": "code",
   "execution_count": 7,
   "metadata": {
    "ExecuteTime": {
     "end_time": "2019-03-16T01:46:55.091662Z",
     "start_time": "2019-03-16T01:46:55.034364Z"
    }
   },
   "outputs": [],
   "source": [
    "def remove_org_dupes(x):\n",
    "    drop_list = []\n",
    "    #print(type(x))\n",
    "    if type(x) != type('astring'):\n",
    "        return []\n",
    "    if x == np.nan:\n",
    "        return []\n",
    "    split_orgs = x.split(\",\")\n",
    "    if len(split_orgs)>1:\n",
    "        for idx1, i in enumerate(split_orgs[:-1]):\n",
    "            for idx2, j in enumerate(split_orgs[idx1+1:]):\n",
    "                #print(i,idx1, j ,idx2, fuzz.ratio(i,j))\n",
    "                if fuzz.ratio(i,j) > 50:\n",
    "                    drop_list.append(idx1+idx2+1)\n",
    "        #print(f'Drop list: {drop_list}')\n",
    "        #print(f'FINAL: {split_orgs[list(set(drop_list))]}')\n",
    "        #split_orgs[not set(drop_list)F\n",
    "        #print (list(set(drop_list)))\n",
    "        output = np.delete(split_orgs, list(set(drop_list)))\n",
    "        return [item.strip() for item in output]\n",
    "    return [item.strip() for item in [x]]"
   ]
  },
  {
   "cell_type": "code",
   "execution_count": 8,
   "metadata": {
    "ExecuteTime": {
     "end_time": "2019-03-16T01:47:02.859442Z",
     "start_time": "2019-03-16T01:47:02.685305Z"
    }
   },
   "outputs": [],
   "source": [
    "#trials[\"Organisations\"] = trials[\"Organisations\"].apply(str)\n",
    "df_trials['clean Organisations'] = df_trials['Organisations'].apply(remove_org_dupes)"
   ]
  },
  {
   "cell_type": "code",
   "execution_count": 9,
   "metadata": {
    "ExecuteTime": {
     "end_time": "2019-03-16T01:47:05.955038Z",
     "start_time": "2019-03-16T01:47:05.900113Z"
    }
   },
   "outputs": [],
   "source": [
    "df_trials['number of clean Organisations'] = df_trials['clean Organisations'].apply(lambda x:len(x))"
   ]
  },
  {
   "cell_type": "code",
   "execution_count": 11,
   "metadata": {
    "ExecuteTime": {
     "end_time": "2019-03-16T01:47:32.959455Z",
     "start_time": "2019-03-16T01:47:32.848671Z"
    }
   },
   "outputs": [
    {
     "name": "stderr",
     "output_type": "stream",
     "text": [
      "/anaconda3/lib/python3.7/site-packages/ipykernel_launcher.py:2: SettingWithCopyWarning: \n",
      "A value is trying to be set on a copy of a slice from a DataFrame.\n",
      "Try using .loc[row_indexer,col_indexer] = value instead\n",
      "\n",
      "See the caveats in the documentation: http://pandas.pydata.org/pandas-docs/stable/indexing.html#indexing-view-versus-copy\n",
      "  \n"
     ]
    }
   ],
   "source": [
    "df_org_count = df_trials[['Primary Drugs','number of clean Organisations']]\n",
    "df_org_count[\"Primary Drugs\"] = df_org_count[\"Primary Drugs\"].apply(lambda x: x.strip())"
   ]
  },
  {
   "cell_type": "code",
   "execution_count": 21,
   "metadata": {
    "ExecuteTime": {
     "end_time": "2019-03-16T01:50:12.103012Z",
     "start_time": "2019-03-16T01:50:12.044563Z"
    }
   },
   "outputs": [],
   "source": [
    "grouped_orgs = df_org_count.groupby(\"Primary Drugs\")[\"number of clean Organisations\"].agg('max')\n",
    "grouped_orgs = grouped_orgs.reset_index()"
   ]
  },
  {
   "cell_type": "code",
   "execution_count": 32,
   "metadata": {
    "ExecuteTime": {
     "end_time": "2019-03-16T01:53:50.939944Z",
     "start_time": "2019-03-16T01:53:50.872470Z"
    }
   },
   "outputs": [],
   "source": [
    "df_data = df_data.merge(grouped_orgs, left_index=True, right_on=\"Primary Drugs\", how='left')\n",
    "df_data.set_index('Primary Drugs', inplace=True)"
   ]
  }
 ],
 "metadata": {
  "kernelspec": {
   "display_name": "Python 3",
   "language": "python",
   "name": "python3"
  },
  "language_info": {
   "codemirror_mode": {
    "name": "ipython",
    "version": 3
   },
   "file_extension": ".py",
   "mimetype": "text/x-python",
   "name": "python",
   "nbconvert_exporter": "python",
   "pygments_lexer": "ipython3",
   "version": "3.7.0"
  }
 },
 "nbformat": 4,
 "nbformat_minor": 2
}
