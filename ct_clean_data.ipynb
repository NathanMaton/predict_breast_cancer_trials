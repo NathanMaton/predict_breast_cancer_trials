{
 "cells": [
  {
   "cell_type": "code",
   "execution_count": 1,
   "metadata": {
    "ExecuteTime": {
     "end_time": "2019-03-14T21:37:46.282718Z",
     "start_time": "2019-03-14T21:37:43.419558Z"
    }
   },
   "outputs": [
    {
     "name": "stdout",
     "output_type": "stream",
     "text": [
      "Populating the interactive namespace from numpy and matplotlib\n"
     ]
    }
   ],
   "source": [
    "import pandas as pd\n",
    "from collections import Counter \n",
    "from helper import load_data,pipeline, unique_drugs, generate_drugs_df\n",
    "import re\n",
    "\n",
    "\n",
    "%pylab inline \n",
    "%load_ext autoreload\n",
    "%autoreload 2"
   ]
  },
  {
   "cell_type": "code",
   "execution_count": 29,
   "metadata": {
    "ExecuteTime": {
     "end_time": "2019-03-14T22:36:21.515775Z",
     "start_time": "2019-03-14T22:36:13.299596Z"
    }
   },
   "outputs": [
    {
     "name": "stdout",
     "output_type": "stream",
     "text": [
      "got 512 results and had 0 exceptions\n",
      "probs are[22.66, 29.31, 67.65]\n"
     ]
    }
   ],
   "source": [
    "trials = load_data()\n",
    "c = unique_drugs(trials)\n",
    "df, exceptions = generate_drugs_df(c, trials)"
   ]
  },
  {
   "cell_type": "code",
   "execution_count": null,
   "metadata": {},
   "outputs": [],
   "source": []
  },
  {
   "cell_type": "markdown",
   "metadata": {},
   "source": [
    "## Error handling to talk w/ Adam about"
   ]
  },
  {
   "cell_type": "code",
   "execution_count": 25,
   "metadata": {
    "ExecuteTime": {
     "end_time": "2019-03-14T21:50:52.365105Z",
     "start_time": "2019-03-14T21:50:52.311500Z"
    }
   },
   "outputs": [
    {
     "data": {
      "text/plain": [
       "656        Phase I\n",
       "800     Phase I/II\n",
       "845     Phase I/II\n",
       "1320       Phase I\n",
       "1580      Phase II\n",
       "1581      Phase II\n",
       "1909       Phase I\n",
       "2078      Phase IV\n",
       "2108       Phase I\n",
       "2482       Phase I\n",
       "2616       Phase I\n",
       "2617       Phase I\n",
       "3295       Phase I\n",
       "3404       Phase I\n",
       "3468       Phase I\n",
       "3495       Phase I\n",
       "3681       Phase I\n",
       "3741       Phase I\n",
       "3749       Phase I\n",
       "3775       Phase I\n",
       "3792       Phase I\n",
       "3799       Phase I\n",
       "3871       Phase I\n",
       "Name: Phase of Trial, dtype: object"
      ]
     },
     "execution_count": 25,
     "metadata": {},
     "output_type": "execute_result"
    }
   ],
   "source": [
    "df = trials[trials['Primary Drugs'].str.contains(\n",
    "        'Palbociclib', case=False)]\n",
    "df[\"Phase of Trial\"]"
   ]
  },
  {
   "cell_type": "code",
   "execution_count": null,
   "metadata": {
    "ExecuteTime": {
     "end_time": "2019-03-14T06:45:02.913484Z",
     "start_time": "2019-03-14T06:45:02.860178Z"
    }
   },
   "outputs": [],
   "source": [
    "df[df['Phase of Trial']=='Phase IV']['Trial Initiation date']"
   ]
  },
  {
   "cell_type": "code",
   "execution_count": null,
   "metadata": {
    "ExecuteTime": {
     "end_time": "2019-03-14T06:44:46.794894Z",
     "start_time": "2019-03-14T06:44:46.747707Z"
    }
   },
   "outputs": [],
   "source": [
    "prob_of_success(df)"
   ]
  },
  {
   "cell_type": "code",
   "execution_count": null,
   "metadata": {
    "ExecuteTime": {
     "end_time": "2019-03-14T18:09:17.943839Z",
     "start_time": "2019-03-14T18:09:17.474220Z"
    }
   },
   "outputs": [],
   "source": [
    "df[df['Phase of Trial']=='Phase III']['Trial Initiation date']"
   ]
  },
  {
   "cell_type": "code",
   "execution_count": null,
   "metadata": {},
   "outputs": [],
   "source": []
  }
 ],
 "metadata": {
  "kernelspec": {
   "display_name": "Python 3",
   "language": "python",
   "name": "python3"
  },
  "language_info": {
   "codemirror_mode": {
    "name": "ipython",
    "version": 3
   },
   "file_extension": ".py",
   "mimetype": "text/x-python",
   "name": "python",
   "nbconvert_exporter": "python",
   "pygments_lexer": "ipython3",
   "version": "3.7.0"
  }
 },
 "nbformat": 4,
 "nbformat_minor": 2
}
