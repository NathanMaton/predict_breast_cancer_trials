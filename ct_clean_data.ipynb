{
 "cells": [
  {
   "cell_type": "code",
   "execution_count": 1,
   "metadata": {
    "ExecuteTime": {
     "end_time": "2019-03-19T23:07:03.039329Z",
     "start_time": "2019-03-19T23:07:00.106746Z"
    }
   },
   "outputs": [
    {
     "name": "stdout",
     "output_type": "stream",
     "text": [
      "Populating the interactive namespace from numpy and matplotlib\n"
     ]
    }
   ],
   "source": [
    "import pandas as pd\n",
    "from collections import Counter \n",
    "from helper import load_data,pipeline, unique_drugs, generate_drugs_df\n",
    "import re\n",
    "\n",
    "%pylab inline \n",
    "%load_ext autoreload\n",
    "%autoreload 2"
   ]
  },
  {
   "cell_type": "code",
   "execution_count": 2,
   "metadata": {
    "ExecuteTime": {
     "end_time": "2019-03-19T23:07:44.840253Z",
     "start_time": "2019-03-19T23:07:09.546219Z"
    }
   },
   "outputs": [],
   "source": [
    "df_temp = load_data()\n",
    "#c = unique_drugs(trials)\n",
    "#df_data, exceptions = generate_drugs_df(c, trials)\n",
    "df_temp = df_temp.reset_index()\n",
    "\n",
    "\n",
    "## expanded unique drugs to get a dataframe we can group by\n",
    "dupes = []\n",
    "for idx, item_list in enumerate(df_temp[\"Primary Drugs\"]):\n",
    "    split_list = item_list.split(\",\")\n",
    "    if len(split_list)>1:\n",
    "        for i in split_list:\n",
    "            df_temp.append(df_temp.iloc[idx,:])\n",
    "            df_temp.iloc[-1,-3]=i\n",
    "        dupes.append(idx)\n",
    "\n",
    "df_trials = df_temp.drop(dupes)\n"
   ]
  },
  {
   "cell_type": "code",
   "execution_count": 5,
   "metadata": {
    "ExecuteTime": {
     "end_time": "2019-03-19T23:08:08.887452Z",
     "start_time": "2019-03-19T23:08:08.829679Z"
    }
   },
   "outputs": [
    {
     "data": {
      "text/plain": [
       "(1812, 44)"
      ]
     },
     "execution_count": 5,
     "metadata": {},
     "output_type": "execute_result"
    }
   ],
   "source": [
    "df_trials.shape"
   ]
  },
  {
   "cell_type": "code",
   "execution_count": 4,
   "metadata": {
    "ExecuteTime": {
     "end_time": "2019-03-19T03:54:39.044163Z",
     "start_time": "2019-03-19T03:54:38.451507Z"
    }
   },
   "outputs": [],
   "source": [
    "drug_list = df_trials[\"Primary Drugs\"].unique()\n",
    "phase_of_trial_list = df_trials[\"Phase of Trial\"].unique()\n",
    "df_num_of_pariticpants = pd.DataFrame(np.zeros([len(drug_list),len(phase_of_trial_list)]),columns=phase_of_trial_list)\n",
    "df_num_of_pariticpants['drug'] = drug_list\n",
    "df_num_of_pariticpants = df_num_of_pariticpants.set_index('drug')\n",
    "grouped_phases = df_trials.groupby([\"Primary Drugs\",\"Phase of Trial\"])[\"Planned Subject Number\"].agg('mean')\n",
    "cleaner_groups = grouped_phases.reset_index()\n",
    "\n",
    "for drug in drug_list:\n",
    "    for item in cleaner_groups[cleaner_groups[\"Primary Drugs\"]==drug].iterrows():   \n",
    "        phase = list(item)[1]['Phase of Trial']\n",
    "        count = list(item)[1]['Planned Subject Number']\n",
    "        df_num_of_pariticpants.loc[drug,phase] = count\n"
   ]
  },
  {
   "cell_type": "code",
   "execution_count": 5,
   "metadata": {
    "ExecuteTime": {
     "end_time": "2019-03-19T03:54:39.903565Z",
     "start_time": "2019-03-19T03:54:39.048319Z"
    }
   },
   "outputs": [],
   "source": [
    "df_drugs = pd.read_excel('bcdrugs.xlsx')\n",
    "df_drugs['drug'] = df_drugs.apply(lambda x: x[\"Drug Name\"].split(\"-\")[0], axis=1)\n",
    "df_num_of_pariticpants_red = df_num_of_pariticpants.drop('Phase 0',axis=1)\n",
    "df_num_of_pariticpants_red = df_num_of_pariticpants_red[(df_num_of_pariticpants_red['Phase I']!=0) | (df_num_of_pariticpants_red['Phase II']!=0) | (df_num_of_pariticpants_red['Phase I/II']!=0)]"
   ]
  },
  {
   "cell_type": "code",
   "execution_count": 6,
   "metadata": {
    "ExecuteTime": {
     "end_time": "2019-03-19T03:54:40.015852Z",
     "start_time": "2019-03-19T03:54:39.906559Z"
    }
   },
   "outputs": [],
   "source": [
    "# Create boolean to determine if the current passed. Based on whether there were participants from the next phase\n",
    "#phases = [item for item in df_num_of_pariticpants_red.columns if 'I' in item]\n",
    "df_num_of_pariticpants_red['Phase I Pass'] = df_num_of_pariticpants_red['Phase II']!=0\n",
    "df_num_of_pariticpants_red['Phase II Pass'] = df_num_of_pariticpants_red['Phase III']!=0\n",
    "df_num_of_pariticpants_red['Phase I/II Pass'] = df_num_of_pariticpants_red['Phase III']!=0\n",
    "df_num_of_pariticpants_red['Phase III Pass'] = df_num_of_pariticpants_red['Phase IV']!=0\n",
    "df_num_of_pariticpants_red['Phase II/III Pass'] = df_num_of_pariticpants_red['Phase IV']!=0"
   ]
  },
  {
   "cell_type": "code",
   "execution_count": 7,
   "metadata": {
    "ExecuteTime": {
     "end_time": "2019-03-19T03:54:40.069445Z",
     "start_time": "2019-03-19T03:54:40.019357Z"
    }
   },
   "outputs": [],
   "source": [
    "df_data = df_num_of_pariticpants_red"
   ]
  },
  {
   "cell_type": "markdown",
   "metadata": {},
   "source": [
    "Getting number of organizations for each drug"
   ]
  },
  {
   "cell_type": "code",
   "execution_count": 8,
   "metadata": {
    "ExecuteTime": {
     "end_time": "2019-03-19T03:54:40.144654Z",
     "start_time": "2019-03-19T03:54:40.073258Z"
    }
   },
   "outputs": [],
   "source": [
    "from fuzzywuzzy import fuzz\n",
    "from fuzzywuzzy import process"
   ]
  },
  {
   "cell_type": "code",
   "execution_count": 9,
   "metadata": {
    "ExecuteTime": {
     "end_time": "2019-03-19T03:54:40.334019Z",
     "start_time": "2019-03-19T03:54:40.274407Z"
    }
   },
   "outputs": [],
   "source": [
    "def remove_org_dupes(x):\n",
    "    drop_list = []\n",
    "    #print(type(x))\n",
    "    if type(x) != type('astring'):\n",
    "        return []\n",
    "    if x == np.nan:\n",
    "        return []\n",
    "    split_orgs = x.split(\",\")\n",
    "    if len(split_orgs)>1:\n",
    "        for idx1, i in enumerate(split_orgs[:-1]):\n",
    "            for idx2, j in enumerate(split_orgs[idx1+1:]):\n",
    "                #print(i,idx1, j ,idx2, fuzz.ratio(i,j))\n",
    "                if fuzz.ratio(i,j) > 50:\n",
    "                    drop_list.append(idx1+idx2+1)\n",
    "        #print(f'Drop list: {drop_list}')\n",
    "        #print(f'FINAL: {split_orgs[list(set(drop_list))]}')\n",
    "        #split_orgs[not set(drop_list)F\n",
    "        #print (list(set(drop_list)))\n",
    "        output = np.delete(split_orgs, list(set(drop_list)))\n",
    "        return [item.strip() for item in output]\n",
    "    return [item.strip() for item in [x]]"
   ]
  },
  {
   "cell_type": "code",
   "execution_count": 10,
   "metadata": {
    "ExecuteTime": {
     "end_time": "2019-03-19T03:54:40.658333Z",
     "start_time": "2019-03-19T03:54:40.537343Z"
    }
   },
   "outputs": [],
   "source": [
    "#trials[\"Organisations\"] = trials[\"Organisations\"].apply(str)\n",
    "df_trials['clean Organisations'] = df_trials['Organisations'].apply(remove_org_dupes)"
   ]
  },
  {
   "cell_type": "code",
   "execution_count": 11,
   "metadata": {
    "ExecuteTime": {
     "end_time": "2019-03-19T03:54:40.983107Z",
     "start_time": "2019-03-19T03:54:40.874178Z"
    }
   },
   "outputs": [],
   "source": [
    "df_trials['clean Organisations'] = df_trials['Organisations'].apply(remove_org_dupes)\n",
    "df_trials['number of clean Organisations'] = df_trials['clean Organisations'].apply(lambda x:len(x))"
   ]
  },
  {
   "cell_type": "code",
   "execution_count": 12,
   "metadata": {
    "ExecuteTime": {
     "end_time": "2019-03-19T03:54:41.285280Z",
     "start_time": "2019-03-19T03:54:41.158073Z"
    }
   },
   "outputs": [
    {
     "name": "stderr",
     "output_type": "stream",
     "text": [
      "/anaconda3/lib/python3.7/site-packages/ipykernel_launcher.py:2: SettingWithCopyWarning: \n",
      "A value is trying to be set on a copy of a slice from a DataFrame.\n",
      "Try using .loc[row_indexer,col_indexer] = value instead\n",
      "\n",
      "See the caveats in the documentation: http://pandas.pydata.org/pandas-docs/stable/indexing.html#indexing-view-versus-copy\n",
      "  \n"
     ]
    }
   ],
   "source": [
    "df_org_count = df_trials[['Primary Drugs','number of clean Organisations']]\n",
    "df_org_count[\"Primary Drugs\"] = df_org_count[\"Primary Drugs\"].apply(lambda x: x.strip())"
   ]
  },
  {
   "cell_type": "code",
   "execution_count": 13,
   "metadata": {
    "ExecuteTime": {
     "end_time": "2019-03-19T03:54:41.560414Z",
     "start_time": "2019-03-19T03:54:41.495156Z"
    }
   },
   "outputs": [],
   "source": [
    "grouped_orgs = df_org_count.groupby(\"Primary Drugs\")[\"number of clean Organisations\"].agg('max')\n",
    "grouped_orgs = grouped_orgs.reset_index()"
   ]
  },
  {
   "cell_type": "code",
   "execution_count": 14,
   "metadata": {
    "ExecuteTime": {
     "end_time": "2019-03-19T03:54:41.819341Z",
     "start_time": "2019-03-19T03:54:41.751990Z"
    }
   },
   "outputs": [
    {
     "data": {
      "text/html": [
       "<div>\n",
       "<style scoped>\n",
       "    .dataframe tbody tr th:only-of-type {\n",
       "        vertical-align: middle;\n",
       "    }\n",
       "\n",
       "    .dataframe tbody tr th {\n",
       "        vertical-align: top;\n",
       "    }\n",
       "\n",
       "    .dataframe thead th {\n",
       "        text-align: right;\n",
       "    }\n",
       "</style>\n",
       "<table border=\"1\" class=\"dataframe\">\n",
       "  <thead>\n",
       "    <tr style=\"text-align: right;\">\n",
       "      <th></th>\n",
       "      <th>Primary Drugs</th>\n",
       "      <th>number of clean Organisations</th>\n",
       "    </tr>\n",
       "  </thead>\n",
       "  <tbody>\n",
       "    <tr>\n",
       "      <th>0</th>\n",
       "      <td>212 Pb TCMC trastuzumab</td>\n",
       "      <td>2</td>\n",
       "    </tr>\n",
       "    <tr>\n",
       "      <th>1</th>\n",
       "      <td>852A</td>\n",
       "      <td>1</td>\n",
       "    </tr>\n",
       "    <tr>\n",
       "      <th>2</th>\n",
       "      <td>ABBV 176</td>\n",
       "      <td>1</td>\n",
       "    </tr>\n",
       "    <tr>\n",
       "      <th>3</th>\n",
       "      <td>ABT 751</td>\n",
       "      <td>1</td>\n",
       "    </tr>\n",
       "    <tr>\n",
       "      <th>4</th>\n",
       "      <td>ABT 767</td>\n",
       "      <td>2</td>\n",
       "    </tr>\n",
       "  </tbody>\n",
       "</table>\n",
       "</div>"
      ],
      "text/plain": [
       "             Primary Drugs  number of clean Organisations\n",
       "0  212 Pb TCMC trastuzumab                              2\n",
       "1                     852A                              1\n",
       "2                 ABBV 176                              1\n",
       "3                  ABT 751                              1\n",
       "4                  ABT 767                              2"
      ]
     },
     "execution_count": 14,
     "metadata": {},
     "output_type": "execute_result"
    }
   ],
   "source": [
    "grouped_orgs.head()"
   ]
  },
  {
   "cell_type": "code",
   "execution_count": 15,
   "metadata": {
    "ExecuteTime": {
     "end_time": "2019-03-19T03:54:42.201603Z",
     "start_time": "2019-03-19T03:54:42.128049Z"
    }
   },
   "outputs": [],
   "source": [
    "df_data = df_data.merge(grouped_orgs, left_index=True, right_on=\"Primary Drugs\", how='left')\n",
    "df_data.set_index('Primary Drugs', inplace=True)"
   ]
  },
  {
   "cell_type": "code",
   "execution_count": 16,
   "metadata": {
    "ExecuteTime": {
     "end_time": "2019-03-19T03:54:42.550255Z",
     "start_time": "2019-03-19T03:54:42.471735Z"
    }
   },
   "outputs": [
    {
     "data": {
      "text/html": [
       "<div>\n",
       "<style scoped>\n",
       "    .dataframe tbody tr th:only-of-type {\n",
       "        vertical-align: middle;\n",
       "    }\n",
       "\n",
       "    .dataframe tbody tr th {\n",
       "        vertical-align: top;\n",
       "    }\n",
       "\n",
       "    .dataframe thead th {\n",
       "        text-align: right;\n",
       "    }\n",
       "</style>\n",
       "<table border=\"1\" class=\"dataframe\">\n",
       "  <thead>\n",
       "    <tr style=\"text-align: right;\">\n",
       "      <th></th>\n",
       "      <th>Date</th>\n",
       "      <th>Status</th>\n",
       "      <th>Notes</th>\n",
       "    </tr>\n",
       "  </thead>\n",
       "  <tbody>\n",
       "    <tr>\n",
       "      <th>0</th>\n",
       "      <td>2019-02-27</td>\n",
       "      <td>Results</td>\n",
       "      <td>Results (n=62) assessing safety, tolerability,...</td>\n",
       "    </tr>\n",
       "    <tr>\n",
       "      <th>1</th>\n",
       "      <td>2019-02-12</td>\n",
       "      <td>Other trial event</td>\n",
       "      <td>Last checked against the ClinicalTrials.gov re...</td>\n",
       "    </tr>\n",
       "    <tr>\n",
       "      <th>2</th>\n",
       "      <td>2019-02-01</td>\n",
       "      <td>Status change - completed</td>\n",
       "      <td>Status changed from active, no longer recruiti...</td>\n",
       "    </tr>\n",
       "    <tr>\n",
       "      <th>3</th>\n",
       "      <td>2018-06-05</td>\n",
       "      <td>Results</td>\n",
       "      <td>Results of pharmacokinetic analsysis (n=58) pr...</td>\n",
       "    </tr>\n",
       "    <tr>\n",
       "      <th>4</th>\n",
       "      <td>2018-06-05</td>\n",
       "      <td>Results</td>\n",
       "      <td>Results presented at the 54th Annual Meeting o...</td>\n",
       "    </tr>\n",
       "    <tr>\n",
       "      <th>5</th>\n",
       "      <td>2018-06-03</td>\n",
       "      <td>Results</td>\n",
       "      <td>Results published in the Media Release</td>\n",
       "    </tr>\n",
       "    <tr>\n",
       "      <th>6</th>\n",
       "      <td>2018-05-30</td>\n",
       "      <td>Completion date</td>\n",
       "      <td>Planned End Date changed from 1 Aug 2017 to 1 ...</td>\n",
       "    </tr>\n",
       "    <tr>\n",
       "      <th>7</th>\n",
       "      <td>2018-05-30</td>\n",
       "      <td>Other trial event</td>\n",
       "      <td>Planned primary completion date changed from 1...</td>\n",
       "    </tr>\n",
       "    <tr>\n",
       "      <th>8</th>\n",
       "      <td>2018-05-30</td>\n",
       "      <td>Status change - active, no longer recruiting</td>\n",
       "      <td>Status changed from recruiting to active, no l...</td>\n",
       "    </tr>\n",
       "    <tr>\n",
       "      <th>9</th>\n",
       "      <td>2018-05-16</td>\n",
       "      <td>Other trial event</td>\n",
       "      <td>According to a Forty Seven media release, the ...</td>\n",
       "    </tr>\n",
       "    <tr>\n",
       "      <th>10</th>\n",
       "      <td>2016-09-06</td>\n",
       "      <td>Other trial event</td>\n",
       "      <td>Planned number of patients changed from 36 to 96.</td>\n",
       "    </tr>\n",
       "    <tr>\n",
       "      <th>11</th>\n",
       "      <td>2016-06-07</td>\n",
       "      <td>Interim results</td>\n",
       "      <td>Interim results (n=16) presented at the 52nd A...</td>\n",
       "    </tr>\n",
       "    <tr>\n",
       "      <th>12</th>\n",
       "      <td>2016-03-03</td>\n",
       "      <td>Other trial event</td>\n",
       "      <td>New source identified and integrated (Clinical...</td>\n",
       "    </tr>\n",
       "    <tr>\n",
       "      <th>13</th>\n",
       "      <td>2016-03-03</td>\n",
       "      <td>New trial record</td>\n",
       "      <td>New trial record</td>\n",
       "    </tr>\n",
       "  </tbody>\n",
       "</table>\n",
       "</div>"
      ],
      "text/plain": [
       "           Date                                        Status  \\\n",
       "0    2019-02-27                                       Results   \n",
       "1    2019-02-12                             Other trial event   \n",
       "2    2019-02-01                     Status change - completed   \n",
       "3    2018-06-05                                       Results   \n",
       "4    2018-06-05                                       Results   \n",
       "5    2018-06-03                                       Results   \n",
       "6    2018-05-30                               Completion date   \n",
       "7    2018-05-30                             Other trial event   \n",
       "8    2018-05-30  Status change - active, no longer recruiting   \n",
       "9    2018-05-16                             Other trial event   \n",
       "10   2016-09-06                             Other trial event   \n",
       "11   2016-06-07                               Interim results   \n",
       "12   2016-03-03                             Other trial event   \n",
       "13   2016-03-03                              New trial record   \n",
       "\n",
       "                                                Notes  \n",
       "0   Results (n=62) assessing safety, tolerability,...  \n",
       "1   Last checked against the ClinicalTrials.gov re...  \n",
       "2   Status changed from active, no longer recruiti...  \n",
       "3   Results of pharmacokinetic analsysis (n=58) pr...  \n",
       "4   Results presented at the 54th Annual Meeting o...  \n",
       "5              Results published in the Media Release  \n",
       "6   Planned End Date changed from 1 Aug 2017 to 1 ...  \n",
       "7   Planned primary completion date changed from 1...  \n",
       "8   Status changed from recruiting to active, no l...  \n",
       "9   According to a Forty Seven media release, the ...  \n",
       "10  Planned number of patients changed from 36 to 96.  \n",
       "11  Interim results (n=16) presented at the 52nd A...  \n",
       "12  New source identified and integrated (Clinical...  \n",
       "13                                   New trial record  "
      ]
     },
     "execution_count": 16,
     "metadata": {},
     "output_type": "execute_result"
    }
   ],
   "source": [
    "def trial_history_to_table(th):\n",
    "    rows = str.split(th, ';')\n",
    "    table = [str.split(row, '|') for row in rows]\n",
    "    return pd.DataFrame(table,columns=['Date','Status','Notes'])\n",
    "\n",
    "trial_history_to_table(df_temp[\"Trial History\"].values[15])"
   ]
  },
  {
   "cell_type": "code",
   "execution_count": 17,
   "metadata": {
    "ExecuteTime": {
     "end_time": "2019-03-19T03:54:42.841412Z",
     "start_time": "2019-03-19T03:54:42.739677Z"
    }
   },
   "outputs": [],
   "source": [
    "#df_original.groupby()\n",
    "df_trials[\"time_diff\"] = df_trials[\"trial_end\"] - df_trials[\"trial_start\"]"
   ]
  },
  {
   "cell_type": "code",
   "execution_count": 18,
   "metadata": {
    "ExecuteTime": {
     "end_time": "2019-03-19T03:54:43.147730Z",
     "start_time": "2019-03-19T03:54:43.088714Z"
    }
   },
   "outputs": [
    {
     "data": {
      "text/plain": [
       "0       22 Jun 2010 (actual)\n",
       "1       01 Dec 2005 (actual)\n",
       "2       24 Aug 2011 (actual)\n",
       "3       17 Jan 2012 (actual)\n",
       "4       01 Jan 2014 (actual)\n",
       "5       21 Feb 2014 (actual)\n",
       "7       11 Apr 2007 (actual)\n",
       "9       21 Nov 2017 (actual)\n",
       "10      01 Jun 2011 (actual)\n",
       "11      14 Jan 2017 (actual)\n",
       "12      02 Apr 2013 (actual)\n",
       "13      05 Mar 2018 (actual)\n",
       "14      14 Mar 2017 (actual)\n",
       "15      01 Aug 2014 (actual)\n",
       "16      11 Mar 2010 (actual)\n",
       "17      01 Sep 2007 (actual)\n",
       "18      28 Oct 2002 (actual)\n",
       "19      06 Nov 2015 (actual)\n",
       "20      18 Jan 2001 (actual)\n",
       "21      01 Sep 2005 (actual)\n",
       "25      01 Jul 1999 (actual)\n",
       "26      11 Dec 2009 (actual)\n",
       "27      12 Aug 2015 (actual)\n",
       "29      01 Sep 2004 (actual)\n",
       "30      01 May 2011 (actual)\n",
       "31      01 Nov 1999 (actual)\n",
       "32      01 Apr 2010 (actual)\n",
       "33      01 Aug 2001 (actual)\n",
       "34      01 May 2010 (actual)\n",
       "35      13 Dec 2013 (actual)\n",
       "                ...         \n",
       "1838    01 Aug 2009 (actual)\n",
       "1839    01 Jul 2009 (actual)\n",
       "1840    01 Oct 2002 (actual)\n",
       "1841    01 Dec 2002 (actual)\n",
       "1843    01 Feb 2006 (actual)\n",
       "1844    01 Jun 2008 (actual)\n",
       "1845    01 Feb 2004 (actual)\n",
       "1846    09 Mar 2004 (actual)\n",
       "1847    01 Oct 2008 (actual)\n",
       "1848    01 Nov 2008 (actual)\n",
       "1849    01 Aug 2006 (actual)\n",
       "1850    01 Apr 2005 (actual)\n",
       "1851    01 Mar 2007 (actual)\n",
       "1852    01 Apr 2002 (actual)\n",
       "1853    01 Jan 2007 (actual)\n",
       "1855    01 Nov 2003 (actual)\n",
       "1856    01 Mar 2005 (actual)\n",
       "1857    01 Jan 2008 (actual)\n",
       "1858    01 Jan 2004 (actual)\n",
       "1859    28 May 2003 (actual)\n",
       "1860    01 Mar 2004 (actual)\n",
       "1861    01 May 2005 (actual)\n",
       "1862    01 Apr 2001 (actual)\n",
       "1863    01 Jul 2007 (actual)\n",
       "1864    01 Jun 2004 (actual)\n",
       "1865    01 Nov 2002 (actual)\n",
       "1866    01 Jan 2001 (actual)\n",
       "1867    13 Dec 1997 (actual)\n",
       "1868    01 Apr 2005 (actual)\n",
       "1869    01 Oct 1997 (actual)\n",
       "Name: Trial Initiation date, Length: 1454, dtype: object"
      ]
     },
     "execution_count": 18,
     "metadata": {},
     "output_type": "execute_result"
    }
   ],
   "source": [
    "df_trials[\"Trial Initiation date\"]"
   ]
  },
  {
   "cell_type": "markdown",
   "metadata": {},
   "source": [
    "Note: Checked that trial start and end date and time difference values are accurate. Need to get subset."
   ]
  },
  {
   "cell_type": "code",
   "execution_count": 19,
   "metadata": {
    "ExecuteTime": {
     "end_time": "2019-03-19T03:54:43.714110Z",
     "start_time": "2019-03-19T03:54:43.638860Z"
    }
   },
   "outputs": [
    {
     "data": {
      "text/html": [
       "<div>\n",
       "<style scoped>\n",
       "    .dataframe tbody tr th:only-of-type {\n",
       "        vertical-align: middle;\n",
       "    }\n",
       "\n",
       "    .dataframe tbody tr th {\n",
       "        vertical-align: top;\n",
       "    }\n",
       "\n",
       "    .dataframe thead th {\n",
       "        text-align: right;\n",
       "    }\n",
       "</style>\n",
       "<table border=\"1\" class=\"dataframe\">\n",
       "  <thead>\n",
       "    <tr style=\"text-align: right;\">\n",
       "      <th></th>\n",
       "      <th>Trial ID</th>\n",
       "      <th>Trial Initiation date</th>\n",
       "      <th>Trial End date</th>\n",
       "      <th>trial_start</th>\n",
       "      <th>trial_end</th>\n",
       "      <th>time_diff</th>\n",
       "      <th>Primary Drugs</th>\n",
       "    </tr>\n",
       "  </thead>\n",
       "  <tbody>\n",
       "    <tr>\n",
       "      <th>1752</th>\n",
       "      <td>700037695</td>\n",
       "      <td>01 Oct 2008 (actual)</td>\n",
       "      <td>01 Oct 2008 (actual)</td>\n",
       "      <td>2008-10-01 00:00:00</td>\n",
       "      <td>2008-10-01 00:00:00</td>\n",
       "      <td>0 days</td>\n",
       "      <td>Neratinib</td>\n",
       "    </tr>\n",
       "    <tr>\n",
       "      <th>1838</th>\n",
       "      <td>700045997</td>\n",
       "      <td>01 Aug 2009 (actual)</td>\n",
       "      <td>01 Aug 2009 (actual)</td>\n",
       "      <td>2009-08-01 00:00:00</td>\n",
       "      <td>2009-08-01 00:00:00</td>\n",
       "      <td>0 days</td>\n",
       "      <td>Axitinib</td>\n",
       "    </tr>\n",
       "    <tr>\n",
       "      <th>1857</th>\n",
       "      <td>700030416</td>\n",
       "      <td>01 Jan 2008 (actual)</td>\n",
       "      <td>01 Jan 2008 (actual)</td>\n",
       "      <td>2008-01-01 00:00:00</td>\n",
       "      <td>2008-01-01 00:00:00</td>\n",
       "      <td>0 days</td>\n",
       "      <td>BMS 690514</td>\n",
       "    </tr>\n",
       "    <tr>\n",
       "      <th>272</th>\n",
       "      <td>700291322</td>\n",
       "      <td>23 Nov 2017 (actual)</td>\n",
       "      <td>14 Dec 2017 (actual)</td>\n",
       "      <td>2017-11-23 00:00:00</td>\n",
       "      <td>2017-12-14 00:00:00</td>\n",
       "      <td>21 days</td>\n",
       "      <td>Varlitinib</td>\n",
       "    </tr>\n",
       "    <tr>\n",
       "      <th>1816</th>\n",
       "      <td>700054377</td>\n",
       "      <td>01 Feb 2010 (actual)</td>\n",
       "      <td>01 Mar 2010 (actual)</td>\n",
       "      <td>2010-02-01 00:00:00</td>\n",
       "      <td>2010-03-01 00:00:00</td>\n",
       "      <td>28 days</td>\n",
       "      <td>Bosutinib</td>\n",
       "    </tr>\n",
       "  </tbody>\n",
       "</table>\n",
       "</div>"
      ],
      "text/plain": [
       "       Trial ID Trial Initiation date        Trial End date  \\\n",
       "1752  700037695  01 Oct 2008 (actual)  01 Oct 2008 (actual)   \n",
       "1838  700045997  01 Aug 2009 (actual)  01 Aug 2009 (actual)   \n",
       "1857  700030416  01 Jan 2008 (actual)  01 Jan 2008 (actual)   \n",
       "272   700291322  23 Nov 2017 (actual)  14 Dec 2017 (actual)   \n",
       "1816  700054377  01 Feb 2010 (actual)  01 Mar 2010 (actual)   \n",
       "\n",
       "              trial_start            trial_end time_diff Primary Drugs  \n",
       "1752  2008-10-01 00:00:00  2008-10-01 00:00:00    0 days     Neratinib  \n",
       "1838  2009-08-01 00:00:00  2009-08-01 00:00:00    0 days      Axitinib  \n",
       "1857  2008-01-01 00:00:00  2008-01-01 00:00:00    0 days    BMS 690514  \n",
       "272   2017-11-23 00:00:00  2017-12-14 00:00:00   21 days    Varlitinib  \n",
       "1816  2010-02-01 00:00:00  2010-03-01 00:00:00   28 days     Bosutinib  "
      ]
     },
     "execution_count": 19,
     "metadata": {},
     "output_type": "execute_result"
    }
   ],
   "source": [
    "df_trials[[\"Trial ID\",\"Trial Initiation date\",\"Trial End date\",\"trial_start\",\"trial_end\",\"time_diff\",\"Primary Drugs\"]].sort_values(\"time_diff\",ascending=True).head()"
   ]
  },
  {
   "cell_type": "code",
   "execution_count": 20,
   "metadata": {
    "ExecuteTime": {
     "end_time": "2019-03-19T03:54:43.988899Z",
     "start_time": "2019-03-19T03:54:43.926220Z"
    }
   },
   "outputs": [],
   "source": [
    "#removes trials that have zero time delta\n",
    "zero_time_delta_mask = df_trials[\"time_diff\"] > np.timedelta64(0)\n",
    "df_trials = df_trials[zero_time_delta_mask]"
   ]
  },
  {
   "cell_type": "code",
   "execution_count": null,
   "metadata": {
    "ExecuteTime": {
     "end_time": "2019-03-16T19:04:19.669145Z",
     "start_time": "2019-03-16T19:04:19.538604Z"
    }
   },
   "outputs": [],
   "source": []
  },
  {
   "cell_type": "code",
   "execution_count": null,
   "metadata": {
    "ExecuteTime": {
     "end_time": "2019-03-16T19:07:25.838518Z",
     "start_time": "2019-03-16T19:07:25.773095Z"
    }
   },
   "outputs": [],
   "source": []
  },
  {
   "cell_type": "code",
   "execution_count": 21,
   "metadata": {
    "ExecuteTime": {
     "end_time": "2019-03-19T03:54:45.640718Z",
     "start_time": "2019-03-19T03:54:44.747058Z"
    }
   },
   "outputs": [],
   "source": [
    "drug_list = df_trials[\"Primary Drugs\"].unique()\n",
    "phase_of_trial_list = df_trials[\"Phase of Trial\"].unique()\n",
    "df_time_diff = pd.DataFrame(np.zeros([len(drug_list),len(phase_of_trial_list)]),columns=phase_of_trial_list)\n",
    "df_time_diff['Primary Drugs'] = drug_list\n",
    "df_time_diff = df_time_diff.set_index('Primary Drugs')\n",
    "\n",
    "df_trials[\"nano_time_diff\"] = df_trials[\"time_diff\"].astype(np.int64)\n",
    "grouped_time_deltas = pd.to_timedelta(df_trials.groupby([\"Primary Drugs\",\"Phase of Trial\"])[\"nano_time_diff\"].agg('mean')).reset_index()\n",
    "\n",
    "for drug in drug_list:\n",
    "    for item in grouped_time_deltas[grouped_time_deltas[\"Primary Drugs\"]==drug].iterrows():   \n",
    "        phase = list(item)[1]['Phase of Trial']\n",
    "        count = list(item)[1]['nano_time_diff']\n",
    "        df_time_diff.loc[drug,phase] = count\n",
    "    \n",
    "df_time_diff.columns=[i+' trial length' for i in df_time_diff.columns]"
   ]
  },
  {
   "cell_type": "code",
   "execution_count": 28,
   "metadata": {
    "ExecuteTime": {
     "end_time": "2019-03-19T03:55:50.234963Z",
     "start_time": "2019-03-19T03:55:50.151679Z"
    }
   },
   "outputs": [
    {
     "data": {
      "text/plain": [
       "(432, 21)"
      ]
     },
     "execution_count": 28,
     "metadata": {},
     "output_type": "execute_result"
    }
   ],
   "source": [
    "df_data.merge(df_time_diff, left_index=True, right_index=True, how='right').shape\n"
   ]
  },
  {
   "cell_type": "code",
   "execution_count": 27,
   "metadata": {
    "ExecuteTime": {
     "end_time": "2019-03-19T03:55:37.073931Z",
     "start_time": "2019-03-19T03:55:37.025909Z"
    }
   },
   "outputs": [
    {
     "data": {
      "text/plain": [
       "(406, 13)"
      ]
     },
     "execution_count": 27,
     "metadata": {},
     "output_type": "execute_result"
    }
   ],
   "source": [
    "df_data.shape"
   ]
  },
  {
   "cell_type": "code",
   "execution_count": 25,
   "metadata": {
    "ExecuteTime": {
     "end_time": "2019-03-19T03:55:07.569124Z",
     "start_time": "2019-03-19T03:55:07.417536Z"
    }
   },
   "outputs": [
    {
     "data": {
      "text/plain": [
       "(432, 8)"
      ]
     },
     "execution_count": 25,
     "metadata": {},
     "output_type": "execute_result"
    }
   ],
   "source": [
    "df_time_diff.shape"
   ]
  },
  {
   "cell_type": "code",
   "execution_count": null,
   "metadata": {},
   "outputs": [],
   "source": []
  }
 ],
 "metadata": {
  "kernelspec": {
   "display_name": "Python 3",
   "language": "python",
   "name": "python3"
  },
  "language_info": {
   "codemirror_mode": {
    "name": "ipython",
    "version": 3
   },
   "file_extension": ".py",
   "mimetype": "text/x-python",
   "name": "python",
   "nbconvert_exporter": "python",
   "pygments_lexer": "ipython3",
   "version": "3.7.0"
  }
 },
 "nbformat": 4,
 "nbformat_minor": 2
}
